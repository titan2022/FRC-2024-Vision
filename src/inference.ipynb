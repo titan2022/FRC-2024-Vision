{
 "cells": [
  {
   "cell_type": "code",
   "execution_count": 7,
   "id": "d07abe57-dc6d-4a44-9eea-7c592cf91720",
   "metadata": {},
   "outputs": [],
   "source": [
    "from ultralytics import YOLO\n",
    "import pyrealsense2 as rs\n",
    "from PIL import Image\n",
    "import numpy as np\n",
    "import ultralytics\n",
    "import math\n",
    "import cv2\n",
    "import vision_functions"
   ]
  },
  {
   "cell_type": "code",
   "execution_count": 8,
   "id": "a4f118aa",
   "metadata": {},
   "outputs": [],
   "source": [
    "model = YOLO(\"YOLOv8sNO.pt\")"
   ]
  },
  {
   "cell_type": "markdown",
   "id": "1cef27c1",
   "metadata": {},
   "source": [
    "# Webcam"
   ]
  },
  {
   "cell_type": "code",
   "execution_count": null,
   "id": "1e3e88d7",
   "metadata": {},
   "outputs": [],
   "source": [
    "cap = cv2.VideoCapture(0)"
   ]
  },
  {
   "cell_type": "code",
   "execution_count": null,
   "id": "14f3d8a7-f460-4260-86ac-96458e5563e3",
   "metadata": {
    "scrolled": true
   },
   "outputs": [],
   "source": [
    "while cap.isOpened():\n",
    "    success, frame = cap.read()\n",
    "    assert success\n",
    "\n",
    "    res = model.track(frame, persist=True)\n",
    "    annot_frame = res[0].plot()\n",
    "\n",
    "    cv2.imshow(\"Tracking\", annot_frame)\n",
    "\n",
    "    if cv2.waitKey(1) == ord('q'):\n",
    "        break\n",
    "\n",
    "cap.release()\n",
    "cv2.destroyAllWindows()"
   ]
  },
  {
   "cell_type": "code",
   "execution_count": null,
   "id": "84a2c6ed",
   "metadata": {},
   "outputs": [],
   "source": [
    "cap.release()\n",
    "cv2.destroyAllWindows()"
   ]
  },
  {
   "cell_type": "markdown",
   "id": "44e04612",
   "metadata": {},
   "source": [
    "# Realsense"
   ]
  },
  {
   "cell_type": "code",
   "execution_count": 9,
   "id": "487d0393",
   "metadata": {},
   "outputs": [],
   "source": [
    "pipe = rs.pipeline()\n",
    "profile = pipe.start()"
   ]
  },
  {
   "cell_type": "code",
   "execution_count": 10,
   "id": "fd47fb51",
   "metadata": {},
   "outputs": [
    {
     "ename": "RuntimeError",
     "evalue": "Frame didn't arrive within 5000",
     "output_type": "error",
     "traceback": [
      "\u001b[1;31m---------------------------------------------------------------------------\u001b[0m",
      "\u001b[1;31mRuntimeError\u001b[0m                              Traceback (most recent call last)",
      "Cell \u001b[1;32mIn[10], line 2\u001b[0m\n\u001b[0;32m      1\u001b[0m \u001b[38;5;28;01mwhile\u001b[39;00m \u001b[38;5;28;01mTrue\u001b[39;00m:\n\u001b[1;32m----> 2\u001b[0m     depth_frame,color_frame,_,_ \u001b[38;5;241m=\u001b[39m \u001b[43mpipe\u001b[49m\u001b[38;5;241;43m.\u001b[39;49m\u001b[43mwait_for_frames\u001b[49m\u001b[43m(\u001b[49m\u001b[43m)\u001b[49m\n\u001b[0;32m      4\u001b[0m     color_im \u001b[38;5;241m=\u001b[39m np\u001b[38;5;241m.\u001b[39masanyarray(color_frame\u001b[38;5;241m.\u001b[39mget_data())\n\u001b[0;32m      5\u001b[0m     color_im \u001b[38;5;241m=\u001b[39m color_im\u001b[38;5;241m.\u001b[39mcopy()\n",
      "\u001b[1;31mRuntimeError\u001b[0m: Frame didn't arrive within 5000"
     ]
    }
   ],
   "source": [
    "while True:\n",
    "    depth_frame,color_frame,_,_ = pipe.wait_for_frames()\n",
    "    \n",
    "    color_im = np.asanyarray(color_frame.get_data())\n",
    "    color_im = color_im.copy()\n",
    "    depth_im = np.asanyarray(depth_frame.get_data())\n",
    "\n",
    "    res = model.track(color_im, persist=True)\n",
    "    annot_frame = res[0].plot()\n",
    "\n",
    "    cv2.imshow(\"Tracking\",annot_frame[...,[2,1,0]])\n",
    "    cv2.imshow(\"Depth\",depth_im)\n",
    "\n",
    "    key = cv2.waitKey(1)\n",
    "    if key == ord('q'):\n",
    "        break\n",
    "\n",
    "cv2.destroyAllWindows()"
   ]
  },
  {
   "cell_type": "code",
   "execution_count": null,
   "id": "f42a6783",
   "metadata": {},
   "outputs": [],
   "source": []
  }
 ],
 "metadata": {
  "kernelspec": {
   "display_name": "Python 3 (ipykernel)",
   "language": "python",
   "name": "python3"
  },
  "language_info": {
   "codemirror_mode": {
    "name": "ipython",
    "version": 3
   },
   "file_extension": ".py",
   "mimetype": "text/x-python",
   "name": "python",
   "nbconvert_exporter": "python",
   "pygments_lexer": "ipython3",
   "version": "3.11.7"
  }
 },
 "nbformat": 4,
 "nbformat_minor": 5
}
