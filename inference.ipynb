{
 "cells": [
  {
   "cell_type": "code",
   "execution_count": null,
   "id": "d07abe57-dc6d-4a44-9eea-7c592cf91720",
   "metadata": {},
   "outputs": [],
   "source": [
    "from ultralytics import YOLO\n",
    "import pyrealsense2 as rs\n",
    "from PIL import Image\n",
    "import numpy as np\n",
    "import ultralytics\n",
    "import math\n",
    "import cv2"
   ]
  },
  {
   "cell_type": "code",
   "execution_count": null,
   "id": "a4f118aa",
   "metadata": {},
   "outputs": [],
   "source": [
    "model = YOLO(\"YOLOv8sNO.pt\")"
   ]
  },
  {
   "cell_type": "markdown",
   "id": "1cef27c1",
   "metadata": {},
   "source": [
    "# Webcam"
   ]
  },
  {
   "cell_type": "code",
   "execution_count": null,
   "id": "1e3e88d7",
   "metadata": {},
   "outputs": [],
   "source": [
    "cap = cv2.VideoCapture(0)"
   ]
  },
  {
   "cell_type": "code",
   "execution_count": null,
   "id": "14f3d8a7-f460-4260-86ac-96458e5563e3",
   "metadata": {
    "scrolled": true
   },
   "outputs": [],
   "source": [
    "while cap.isOpened():\n",
    "    success, frame = cap.read()\n",
    "    assert success\n",
    "\n",
    "    res = model.track(frame, persist=True)\n",
    "    annot_frame = res[0].plot()\n",
    "\n",
    "    cv2.imshow(\"Tracking\", annot_frame)\n",
    "\n",
    "    if cv2.waitKey(1) == ord('q'):\n",
    "        break\n",
    "\n",
    "cap.release()\n",
    "cv2.destroyAllWindows()"
   ]
  },
  {
   "cell_type": "markdown",
   "id": "44e04612",
   "metadata": {},
   "source": [
    "# Realsense"
   ]
  },
  {
   "cell_type": "code",
   "execution_count": null,
   "id": "487d0393",
   "metadata": {},
   "outputs": [],
   "source": [
    "pipe = rs.pipeline()\n",
    "profile = pipe.start()"
   ]
  },
  {
   "cell_type": "code",
   "execution_count": null,
   "id": "fd47fb51",
   "metadata": {},
   "outputs": [],
   "source": [
    "while True:\n",
    "    depth_frame,color_frame,_,_ = pipe.wait_for_frames()\n",
    "    \n",
    "    color_im = np.asanyarray(color_frame.get_data())\n",
    "    color_im = color_im.copy()\n",
    "    depth_im = np.asanyarray(depth_frame.get_data())\n",
    "\n",
    "    res = model.track(color_im, persist=True)\n",
    "    annot_frame = res[0].plot()\n",
    "\n",
    "    cv2.imshow(\"Tracking\",annot_frame[...,[2,1,0]])\n",
    "    cv2.imshow(\"Depth\",depth_im)\n",
    "\n",
    "    key = cv2.waitKey(1)\n",
    "    if key == ord('q'):\n",
    "        break\n",
    "\n",
    "cv2.destroyAllWindows()"
   ]
  },
  {
   "cell_type": "code",
   "execution_count": null,
   "id": "f42a6783",
   "metadata": {},
   "outputs": [],
   "source": []
  }
 ],
 "metadata": {
  "kernelspec": {
   "display_name": "Python 3 (ipykernel)",
   "language": "python",
   "name": "python3"
  },
  "language_info": {
   "codemirror_mode": {
    "name": "ipython",
    "version": 3
   },
   "file_extension": ".py",
   "mimetype": "text/x-python",
   "name": "python",
   "nbconvert_exporter": "python",
   "pygments_lexer": "ipython3",
   "version": "3.11.2"
  }
 },
 "nbformat": 4,
 "nbformat_minor": 5
}
